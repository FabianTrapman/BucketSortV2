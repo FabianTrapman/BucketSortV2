{
 "cells": [
  {
   "cell_type": "code",
   "execution_count": 1,
   "metadata": {},
   "outputs": [],
   "source": [
    "import subprocess\n",
    "import matplotlib.pyplot as plt\n",
    "import numpy as np\n",
    "import pandas as pd"
   ]
  },
  {
   "cell_type": "markdown",
   "metadata": {},
   "source": [
    "# BucketSort\n",
    "\n",
    "Fabian Trapman 1843419"
   ]
  },
  {
   "cell_type": "code",
   "execution_count": 4,
   "metadata": {},
   "outputs": [],
   "source": [
    "def run_cpp_program():\n",
    "    result = subprocess.run([\"./my_cpp_program.exe\"], stdout=subprocess.PIPE, text=True)\n",
    "    return result.stdout"
   ]
  },
  {
   "cell_type": "code",
   "execution_count": 5,
   "metadata": {},
   "outputs": [
    {
     "name": "stdout",
     "output_type": "stream",
     "text": [
      "Voor BucketSort: \n",
      "60341 15983 9011 29887 7011 80243 90258 64819 62206 83216 19896 59416 63810 51455 70699 94891 55045 17125 40493 6817 34090 63301 54593 6423 6713 80259 12843 8215 96641 34670 80838 69766 30276 41446 70691 44652 69683 43461 40772 23830 53475 99531 21406 76343 37558 60190 66633 62933 5764 4736 \n",
      "\n",
      "Na BucketSort: \n",
      "4736 5764 6423 6713 6817 7011 8215 9011 12843 15983 17125 19896 21406 23830 29887 30276 34090 34670 37558 40493 40772 41446 43461 44652 51455 53475 54593 55045 59416 60190 60341 62206 62933 63301 63810 64819 66633 69683 69766 70691 70699 76343 80243 80259 80838 83216 90258 94891 96641 99531 \n"
     ]
    }
   ],
   "source": [
    "print(run_cpp_program())"
   ]
  }
 ],
 "metadata": {
  "kernelspec": {
   "display_name": "Python 3",
   "language": "python",
   "name": "python3"
  },
  "language_info": {
   "codemirror_mode": {
    "name": "ipython",
    "version": 3
   },
   "file_extension": ".py",
   "mimetype": "text/x-python",
   "name": "python",
   "nbconvert_exporter": "python",
   "pygments_lexer": "ipython3",
   "version": "3.12.0"
  }
 },
 "nbformat": 4,
 "nbformat_minor": 2
}
